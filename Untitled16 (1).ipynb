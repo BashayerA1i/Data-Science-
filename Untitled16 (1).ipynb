{
 "cells": [
  {
   "cell_type": "code",
   "execution_count": null,
   "id": "d6c0652c",
   "metadata": {},
   "outputs": [],
   "source": [
    "#Analysis of the Energy Prices\n",
    "#The goal of this project is to better understand which factors are most important to predict the energy prices.\n",
    "\n",
    "\n"
   ]
  },
  {
   "cell_type": "code",
   "execution_count": null,
   "id": "b6593fb2",
   "metadata": {},
   "outputs": [],
   "source": [
    "# A machine learning library used for linear regression\n",
    "from sklearn.linear_model import LinearRegression\n",
    "# numpy and pandas will be used for data manipulation\n",
    "import numpy as np\n",
    "import pandas as pd\n",
    "# matplotlib will be used for visually representing our data\n",
    "import matplotlib.pyplot as plt\n",
    "# Quandl will be used for importing historical oil prices\n",
    "%matplotlib inline\n",
    "import seaborn as sns\n"
   ]
  },
  {
   "cell_type": "code",
   "execution_count": null,
   "id": "bf985273",
   "metadata": {},
   "outputs": [],
   "source": [
    "dataset = pd.read_excel('energy-prices-over-time-for-all-eu-countries.xlsx')"
   ]
  },
  {
   "cell_type": "code",
   "execution_count": null,
   "id": "75d1dca9",
   "metadata": {},
   "outputs": [],
   "source": [
    "dataset"
   ]
  },
  {
   "cell_type": "code",
   "execution_count": null,
   "id": "923de2c2",
   "metadata": {},
   "outputs": [],
   "source": [
    "dataset.head()"
   ]
  },
  {
   "cell_type": "code",
   "execution_count": null,
   "id": "117ff783",
   "metadata": {},
   "outputs": [],
   "source": [
    "dataset.head(30)"
   ]
  },
  {
   "cell_type": "code",
   "execution_count": null,
   "id": "2238454b",
   "metadata": {},
   "outputs": [],
   "source": [
    "dataset.tail(30)"
   ]
  },
  {
   "cell_type": "code",
   "execution_count": null,
   "id": "e8543dee",
   "metadata": {},
   "outputs": [],
   "source": [
    "type(dataset.Date[0])"
   ]
  },
  {
   "cell_type": "code",
   "execution_count": null,
   "id": "d26c5c62",
   "metadata": {},
   "outputs": [],
   "source": [
    "type(dataset.Value[0])"
   ]
  },
  {
   "cell_type": "code",
   "execution_count": null,
   "id": "cc4e22ae",
   "metadata": {},
   "outputs": [],
   "source": [
    "#Resampling \n",
    "dataset.Value.mean()\n"
   ]
  },
  {
   "cell_type": "code",
   "execution_count": null,
   "id": "b56bd851",
   "metadata": {},
   "outputs": [],
   "source": [
    "'''' is any missing values in dataframe '''\n",
    "\n",
    "dataset.isnull()"
   ]
  },
  {
   "cell_type": "code",
   "execution_count": null,
   "id": "8c5c1273",
   "metadata": {},
   "outputs": [],
   "source": [
    "''' count of missing values column wise'''\n",
    "dataset.isnull().sum()"
   ]
  },
  {
   "cell_type": "code",
   "execution_count": null,
   "id": "c063b640",
   "metadata": {},
   "outputs": [],
   "source": [
    "''' count of missing values across rows'''\n",
    "\n",
    "dataset.isnull().sum(axis=1)"
   ]
  },
  {
   "cell_type": "code",
   "execution_count": null,
   "id": "e8a556d3",
   "metadata": {},
   "outputs": [],
   "source": [
    "''' count of missing values across rows'''\n",
    "\n",
    " \n",
    "\n",
    "for i in range(len(dataset.index)) :\n",
    "\n",
    "    print(\"Nan in row \", i , \" : \" ,  dataset.iloc[i].isnull().sum())\n"
   ]
  },
  {
   "cell_type": "code",
   "execution_count": null,
   "id": "79291db8",
   "metadata": {},
   "outputs": [],
   "source": [
    "### get count of missing values of a particular column\n",
    "\n",
    "dataset.Indicator.isnull().sum()\n"
   ]
  },
  {
   "cell_type": "code",
   "execution_count": null,
   "id": "02e16c05",
   "metadata": {},
   "outputs": [],
   "source": [
    "df=dataset.dropna(axis=1)\n",
    "print(df)"
   ]
  },
  {
   "cell_type": "code",
   "execution_count": null,
   "id": "525352ac",
   "metadata": {},
   "outputs": [],
   "source": [
    "dataset.info()"
   ]
  },
  {
   "cell_type": "code",
   "execution_count": null,
   "id": "4f5e74b4",
   "metadata": {},
   "outputs": [],
   "source": [
    "###Create a model to predict house prices using Python"
   ]
  },
  {
   "cell_type": "code",
   "execution_count": null,
   "id": "680c93c9",
   "metadata": {},
   "outputs": [],
   "source": [
    "dataset.describe()"
   ]
  },
  {
   "cell_type": "code",
   "execution_count": null,
   "id": "5ae2bb6f",
   "metadata": {},
   "outputs": [],
   "source": []
  },
  {
   "cell_type": "code",
   "execution_count": null,
   "id": "a77672a0",
   "metadata": {},
   "outputs": [],
   "source": []
  },
  {
   "cell_type": "code",
   "execution_count": null,
   "id": "16a3d3ff",
   "metadata": {},
   "outputs": [],
   "source": []
  },
  {
   "cell_type": "code",
   "execution_count": null,
   "id": "5eae99de",
   "metadata": {},
   "outputs": [],
   "source": []
  },
  {
   "cell_type": "code",
   "execution_count": null,
   "id": "dee15a06",
   "metadata": {},
   "outputs": [],
   "source": [
    "type(dataset['Value'])"
   ]
  },
  {
   "cell_type": "code",
   "execution_count": null,
   "id": "ef52efb6",
   "metadata": {},
   "outputs": [],
   "source": [
    "plt.ylabel('Energy Prices')\n",
    "dataset.Value.plot(figsize=(20,10))\n"
   ]
  },
  {
   "cell_type": "code",
   "execution_count": null,
   "id": "4f635563",
   "metadata": {},
   "outputs": [],
   "source": [
    "dataset['Country'] = dataset['Value'].shift(1).rolling(window=3).mean()\n",
    "dataset['Indicator']= dataset['Value'].shift(1).rolling(window=9).mean()"
   ]
  },
  {
   "cell_type": "code",
   "execution_count": null,
   "id": "59717e9a",
   "metadata": {},
   "outputs": [],
   "source": [
    "dataset = dataset.dropna()\n",
    "\n",
    "# Initialising X and assigning the two feature variables\n",
    "X = dataset[['Country','Indicator','Value']]\n",
    "\n",
    "# Getting the head of the data\n",
    "X.head()"
   ]
  },
  {
   "cell_type": "code",
   "execution_count": null,
   "id": "4dd3dbeb",
   "metadata": {},
   "outputs": [],
   "source": [
    "y = dataset['Value']\n",
    "\n",
    "# Getting the head of the data\n",
    "y.head()"
   ]
  },
  {
   "cell_type": "code",
   "execution_count": null,
   "id": "73dbcd7a",
   "metadata": {},
   "outputs": [],
   "source": [
    "\n",
    "#plot 2:\n",
    "x = dataset['Date']\n",
    "y = dataset['Value']\n",
    "\n",
    "plt.subplot(1, 2, 2)\n",
    "#the figure has 1 row, 2 columns, and this plot is the second plot.\n",
    "plt.plot(x,y)"
   ]
  },
  {
   "cell_type": "code",
   "execution_count": null,
   "id": "fcdf2873",
   "metadata": {},
   "outputs": [],
   "source": [
    "# Setting the training set to 80% of the data\n",
    "training = 0.8\n",
    "t = int(training*len(dataset))\n",
    "\n",
    "# Training dataset\n",
    "X_train = X[:t]\n",
    "y_train = y[:t]\n",
    "\n",
    "# Testing dataset\n",
    "X_test = X[t:]\n",
    "y_test = y[t:]"
   ]
  },
  {
   "cell_type": "code",
   "execution_count": null,
   "id": "d771c73b",
   "metadata": {},
   "outputs": [],
   "source": [
    "model = LinearRegression().fit(X_train,y_train)\n"
   ]
  },
  {
   "cell_type": "code",
   "execution_count": null,
   "id": "3be73136",
   "metadata": {},
   "outputs": [],
   "source": [
    "\n",
    "predicted_price = model.predict(X_test)\n",
    "predicted_price = pd.DataFrame(predicted_price,index=y_test.index,columns = ['Country'])\n",
    "predicted_price.plot(figsize=(10,5))\n",
    "y_test.plot()\n",
    "plt.legend(['Predicted Price','Actual Price'])\n",
    "plt.ylabel(\"Crude Oil Prices: Brent - Europe\")\n",
    "plt.show()"
   ]
  },
  {
   "cell_type": "code",
   "execution_count": null,
   "id": "b0f48143",
   "metadata": {},
   "outputs": [],
   "source": [
    "# Computing the accuracy of our model\n",
    "R_squared_score = model.score(X[t:],y[t:])*100\n",
    "\n",
    "accuracy = (\"{0:.2f}\".format(R_squared_score))\n",
    "print (\"The model has a \" + accuracy + \"% accuracy.\")"
   ]
  },
  {
   "cell_type": "code",
   "execution_count": null,
   "id": "3075f89b",
   "metadata": {},
   "outputs": [],
   "source": [
    "import numpy as np \n",
    "import pandas as pd \n",
    "import matplotlib.pyplot as plt\n",
    "from pandas.plotting import lag_plot\n",
    "from datetime import datetime\n",
    "from statsmodels.tsa.arima_model import ARIMA\n",
    "from sklearn.metrics import mean_squared_error"
   ]
  },
  {
   "cell_type": "code",
   "execution_count": null,
   "id": "5747f457",
   "metadata": {},
   "outputs": [],
   "source": [
    "dataset.head(5)"
   ]
  },
  {
   "cell_type": "code",
   "execution_count": null,
   "id": "b8c49e32",
   "metadata": {},
   "outputs": [],
   "source": [
    "plt.figure()\n",
    "lag_plot(dataset['Indicator'], lag=3)\n",
    "plt.title('Value of energy prices')\n",
    "plt.show()"
   ]
  },
  {
   "cell_type": "code",
   "execution_count": null,
   "id": "7e330420",
   "metadata": {},
   "outputs": [],
   "source": []
  },
  {
   "cell_type": "code",
   "execution_count": null,
   "id": "126fc04a",
   "metadata": {},
   "outputs": [],
   "source": []
  },
  {
   "cell_type": "code",
   "execution_count": null,
   "id": "f1234a5c",
   "metadata": {},
   "outputs": [],
   "source": []
  },
  {
   "cell_type": "code",
   "execution_count": null,
   "id": "3e841dae",
   "metadata": {},
   "outputs": [],
   "source": []
  }
 ],
 "metadata": {
  "kernelspec": {
   "display_name": "Python 3 (ipykernel)",
   "language": "python",
   "name": "python3"
  },
  "language_info": {
   "codemirror_mode": {
    "name": "ipython",
    "version": 3
   },
   "file_extension": ".py",
   "mimetype": "text/x-python",
   "name": "python",
   "nbconvert_exporter": "python",
   "pygments_lexer": "ipython3",
   "version": "3.9.7"
  }
 },
 "nbformat": 4,
 "nbformat_minor": 5
}
